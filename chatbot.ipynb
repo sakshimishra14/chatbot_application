{
 "cells": [
  {
   "cell_type": "markdown",
   "id": "cdfbb003",
   "metadata": {},
   "source": [
    "# CHATBOT\n",
    "A chatbot is a software application used to conduct an on-line chat conversation via text or text-to-speech, in lieu of providing direct contact with a live human agent. Designed to convincingly simulate the way a human would behave as a conversational partner, chatbot systems typically require continuous tuning and testing, and many in production remain unable to adequately converse or pass the industry standard Turing test\n"
   ]
  },
  {
   "cell_type": "code",
   "execution_count": 1,
   "id": "ea7939eb",
   "metadata": {},
   "outputs": [
    {
     "name": "stderr",
     "output_type": "stream",
     "text": [
      "[nltk_data] Downloading package punkt to\n",
      "[nltk_data]     C:\\Users\\DELL\\AppData\\Roaming\\nltk_data...\n",
      "[nltk_data]   Package punkt is already up-to-date!\n"
     ]
    }
   ],
   "source": [
    "#libraries needed for NLP\n",
    "import nltk\n",
    "nltk.download('punkt')\n",
    "from nltk.stem.lancaster import LancasterStemmer\n",
    "stemmer = LancasterStemmer()"
   ]
  },
  {
   "cell_type": "code",
   "execution_count": 2,
   "id": "187909b8",
   "metadata": {},
   "outputs": [
    {
     "name": "stdout",
     "output_type": "stream",
     "text": [
      "WARNING:tensorflow:From C:\\Users\\DELL\\anaconda3\\envs\\speechenv\\lib\\site-packages\\tensorflow\\python\\compat\\v2_compat.py:96: disable_resource_variables (from tensorflow.python.ops.variable_scope) is deprecated and will be removed in a future version.\n",
      "Instructions for updating:\n",
      "non-resource variables are not supported in the long term\n",
      "curses is not supported on this machine (please install/reinstall curses for an optimal experience)\n"
     ]
    }
   ],
   "source": [
    "# Libraries needed for Tensorflow processing\n",
    "import tensorflow as tf\n",
    "import numpy as np\n",
    "import tflearn\n",
    "import random\n",
    "import json\n",
    "import pandas as pd\n",
    "\n"
   ]
  },
  {
   "cell_type": "code",
   "execution_count": 3,
   "id": "e5eb3248",
   "metadata": {},
   "outputs": [],
   "source": [
    "with open(\"D://chatbot application//Intent.json\") as json_data:\n",
    "    intents = json.load(json_data)"
   ]
  },
  {
   "cell_type": "code",
   "execution_count": 4,
   "id": "9c1f1b81",
   "metadata": {},
   "outputs": [
    {
     "data": {
      "text/plain": [
       "{'intents': [{'tag': 'greeting',\n",
       "   'patterns': ['Hi', 'How are you', 'Is anyone there?', 'Hello', 'Good day'],\n",
       "   'responses': ['Hello, thanks for visiting',\n",
       "    'Good to see you again',\n",
       "    'Hi there, how can I help?'],\n",
       "   'context_set': ''},\n",
       "  {'tag': 'goodbye',\n",
       "   'patterns': ['Bye', 'See you later', 'Goodbye'],\n",
       "   'responses': ['See you later, thanks for visiting',\n",
       "    'Have a nice day',\n",
       "    'Bye! Come back again soon.']},\n",
       "  {'tag': 'thanks',\n",
       "   'patterns': ['Thanks', 'Thank you', \"That's helpful\"],\n",
       "   'responses': ['Happy to help!', 'Any time!', 'My pleasure']},\n",
       "  {'tag': 'hours',\n",
       "   'patterns': ['What hours are you open?',\n",
       "    'What are your hours?',\n",
       "    'When are you open?'],\n",
       "   'responses': [\"We're open every day 9am-9pm\",\n",
       "    'Our hours are 9am-9pm every day']},\n",
       "  {'tag': 'location',\n",
       "   'patterns': ['What is your location?',\n",
       "    'Where are you located?',\n",
       "    'What is your address?',\n",
       "    'Where is your restaurant situated?'],\n",
       "   'responses': ['We are on the intersection of London Alley and Bridge Avenue.',\n",
       "    'We are situated at the intersection of London Alley and Bridge Avenue',\n",
       "    'Our Address is: 1000 Bridge Avenue, London EC3N 4AJ, UK']},\n",
       "  {'tag': 'payments',\n",
       "   'patterns': ['Do you take credit cards?',\n",
       "    'Do you accept Mastercard?',\n",
       "    'Are you cash only?'],\n",
       "   'responses': ['We accept VISA, Mastercard and AMEX',\n",
       "    'We accept most major credit cards']},\n",
       "  {'tag': 'todaysmenu',\n",
       "   'patterns': ['What is your menu for today?',\n",
       "    'What are you serving today?',\n",
       "    \"What is today's special?\"],\n",
       "   'responses': [\"Today's special is Chicken Tikka\",\n",
       "    'Our speciality for today is Chicken Tikka']},\n",
       "  {'tag': 'deliveryoption',\n",
       "   'patterns': ['Do you provide home delivery?',\n",
       "    'Do you deliver the food?',\n",
       "    'What are the home delivery options?'],\n",
       "   'responses': ['Yes, we provide home delivery through UBER Eats and Zomato?',\n",
       "    'We have home delivery options through UBER Eats and Zomato'],\n",
       "   'context_set': 'food'},\n",
       "  {'tag': 'menu',\n",
       "   'patterns': ['What is your Menu?',\n",
       "    'What are the main course options?',\n",
       "    'Can you tell me the most delicious dish from the menu?',\n",
       "    \"What is the today's special?\"],\n",
       "   'responses': ['You can visit www.mymenu.com for menu options',\n",
       "    'You can check out the food menu at www.mymenu.com',\n",
       "    'You can check various delicacies given in the food menu at www.mymenu.com'],\n",
       "   'context_filter': 'food'}]}"
      ]
     },
     "execution_count": 4,
     "metadata": {},
     "output_type": "execute_result"
    }
   ],
   "source": [
    "intents"
   ]
  },
  {
   "cell_type": "code",
   "execution_count": 5,
   "id": "f23e9b29",
   "metadata": {},
   "outputs": [],
   "source": [
    "words = []\n",
    "classes = []\n",
    "documents = []\n",
    "ignore = ['?']\n",
    "# loop through each sentence in the intent's patterns\n",
    "for intent in intents['intents']:\n",
    "    for pattern in intent['patterns']:\n",
    "        # tokenize each and every word in the sentence\n",
    "        w = nltk.word_tokenize(pattern)\n",
    "        # add word to the words list\n",
    "        words.extend(w)\n",
    "        # add word(s) to documents\n",
    "        documents.append((w, intent['tag']))\n",
    "        # add tags to our classes list\n",
    "        if intent['tag'] not in classes:\n",
    "            classes.append(intent['tag'])\n"
   ]
  },
  {
   "cell_type": "code",
   "execution_count": 7,
   "id": "bf9f3383",
   "metadata": {},
   "outputs": [
    {
     "name": "stdout",
     "output_type": "stream",
     "text": [
      "31 documents\n",
      "9 classes ['greeting', 'goodbye', 'thanks', 'hours', 'location', 'payments', 'todaysmenu', 'deliveryoption', 'menu']\n",
      "144 unique stemmed words ['Hi', 'How', 'are', 'you', 'Is', 'anyone', 'there', '?', 'Hello', 'Good', 'day', 'Bye', 'See', 'you', 'later', 'Goodbye', 'Thanks', 'Thank', 'you', 'That', \"'s\", 'helpful', 'What', 'hours', 'are', 'you', 'open', '?', 'What', 'are', 'your', 'hours', '?', 'When', 'are', 'you', 'open', '?', 'What', 'is', 'your', 'location', '?', 'Where', 'are', 'you', 'located', '?', 'What', 'is', 'your', 'address', '?', 'Where', 'is', 'your', 'restaurant', 'situated', '?', 'Do', 'you', 'take', 'credit', 'cards', '?', 'Do', 'you', 'accept', 'Mastercard', '?', 'Are', 'you', 'cash', 'only', '?', 'What', 'is', 'your', 'menu', 'for', 'today', '?', 'What', 'are', 'you', 'serving', 'today', '?', 'What', 'is', 'today', \"'s\", 'special', '?', 'Do', 'you', 'provide', 'home', 'delivery', '?', 'Do', 'you', 'deliver', 'the', 'food', '?', 'What', 'are', 'the', 'home', 'delivery', 'options', '?', 'What', 'is', 'your', 'Menu', '?', 'What', 'are', 'the', 'main', 'course', 'options', '?', 'Can', 'you', 'tell', 'me', 'the', 'most', 'delicious', 'dish', 'from', 'the', 'menu', '?', 'What', 'is', 'the', 'today', \"'s\", 'special', '?']\n"
     ]
    }
   ],
   "source": [
    "print (len(documents), \"documents\")\n",
    "print (len(classes), \"classes\", classes)\n",
    "print (len(words), \"unique stemmed words\", words)\n",
    "\n"
   ]
  },
  {
   "cell_type": "code",
   "execution_count": 8,
   "id": "b67748fd",
   "metadata": {},
   "outputs": [
    {
     "name": "stderr",
     "output_type": "stream",
     "text": [
      "<ipython-input-8-010bbd44b475>:27: VisibleDeprecationWarning: Creating an ndarray from ragged nested sequences (which is a list-or-tuple of lists-or-tuples-or ndarrays with different lengths or shapes) is deprecated. If you meant to do this, you must specify 'dtype=object' when creating the ndarray.\n",
      "  training = np.array(training)\n"
     ]
    }
   ],
   "source": [
    "# create training data\n",
    "training = []\n",
    "output = []\n",
    "# create an empty array for output\n",
    "output_empty = [0] * len(classes)\n",
    "\n",
    "# create training set, bag of words for each sentence\n",
    "for doc in documents:\n",
    "    # initialize bag of words\n",
    "    bag = []\n",
    "    # list of tokenized words for the pattern\n",
    "    pattern_words = doc[0]\n",
    "    # stemming each word\n",
    "    pattern_words = [stemmer.stem(word.lower()) for word in pattern_words]\n",
    "    # create bag of words array\n",
    "    for w in words:\n",
    "        bag.append(1) if w in pattern_words else bag.append(0)\n",
    "\n",
    "    # output is '1' for current tag and '0' for rest of other tags\n",
    "    output_row = list(output_empty)\n",
    "    output_row[classes.index(doc[1])] = 1\n",
    "\n",
    "    training.append([bag, output_row])\n",
    "\n",
    "# shuffling features and turning it into np.array\n",
    "random.shuffle(training)\n",
    "training = np.array(training)\n",
    "\n",
    "# creating training lists\n",
    "train_x = list(training[:,0])\n",
    "train_y = list(training[:,1])\n",
    "\n"
   ]
  },
  {
   "cell_type": "code",
   "execution_count": 9,
   "id": "a879c154",
   "metadata": {},
   "outputs": [
    {
     "name": "stdout",
     "output_type": "stream",
     "text": [
      "Training Step: 3999  | total loss: \u001b[1m\u001b[32m0.52779\u001b[0m\u001b[0m | time: 0.019s\n",
      "| Adam | epoch: 1000 | loss: 0.52779 - acc: 0.7341 -- iter: 24/31\n",
      "Training Step: 4000  | total loss: \u001b[1m\u001b[32m0.48315\u001b[0m\u001b[0m | time: 0.024s\n",
      "| Adam | epoch: 1000 | loss: 0.48315 - acc: 0.7607 -- iter: 31/31\n",
      "--\n",
      "INFO:tensorflow:C:\\Users\\DELL\\model.tflearn is not in all_model_checkpoint_paths. Manually adding it.\n"
     ]
    }
   ],
   "source": [
    "# resetting underlying graph data\n",
    "\n",
    "\n",
    "# Building neural network\n",
    "net = tflearn.input_data(shape=[None, len(train_x[0])])\n",
    "net = tflearn.fully_connected(net, 10)\n",
    "net = tflearn.fully_connected(net, 10)\n",
    "net = tflearn.fully_connected(net, len(train_y[0]), activation='softmax')\n",
    "net = tflearn.regression(net)\n",
    "\n",
    "# Defining model and setting up tensorboard\n",
    "model = tflearn.DNN(net, tensorboard_dir='tflearn_logs')\n",
    "\n",
    "# Start training\n",
    "model.fit(train_x, train_y, n_epoch=1000, batch_size=8, show_metric=True)\n",
    "model.save('model.tflearn')\n"
   ]
  },
  {
   "cell_type": "code",
   "execution_count": 10,
   "id": "a31d6a8f",
   "metadata": {},
   "outputs": [],
   "source": [
    "import pickle\n",
    "pickle.dump( {'words':words, 'classes':classes, 'train_x':train_x, 'train_y':train_y}, open( \"training_data\", \"wb\" ) )\n"
   ]
  },
  {
   "cell_type": "code",
   "execution_count": 11,
   "id": "6363177f",
   "metadata": {},
   "outputs": [],
   "source": [
    "# restoring all the data structures\n",
    "data = pickle.load( open( \"training_data\", \"rb\" ) )\n",
    "words = data['words']\n",
    "classes = data['classes']\n",
    "train_x = data['train_x']\n",
    "train_y = data['train_y']\n"
   ]
  },
  {
   "cell_type": "code",
   "execution_count": 12,
   "id": "d0e5a9e3",
   "metadata": {},
   "outputs": [],
   "source": [
    "with open(\"D://chatbot application//Intent.json\") as json_data:\n",
    "    intents = json.load(json_data)"
   ]
  },
  {
   "cell_type": "code",
   "execution_count": 13,
   "id": "f21a369e",
   "metadata": {},
   "outputs": [
    {
     "name": "stdout",
     "output_type": "stream",
     "text": [
      "INFO:tensorflow:Restoring parameters from C:\\Users\\DELL\\model.tflearn\n"
     ]
    }
   ],
   "source": [
    "# load the saved model\n",
    "model.load('./model.tflearn')\n"
   ]
  },
  {
   "cell_type": "code",
   "execution_count": 14,
   "id": "4bad5795",
   "metadata": {},
   "outputs": [],
   "source": [
    "def clean_up_sentence(sentence):\n",
    "    # tokenizing the pattern\n",
    "    sentence_words = nltk.word_tokenize(sentence)\n",
    "    # stemming each word\n",
    "    sentence_words = [stemmer.stem(word.lower()) for word in sentence_words]\n",
    "    return sentence_words\n",
    "\n",
    "# returning bag of words array: 0 or 1 for each word in the bag that exists in the sentence\n",
    "def bow(sentence, words, show_details=False):\n",
    "    # tokenizing the pattern\n",
    "    sentence_words = clean_up_sentence(sentence)\n",
    "    # generating bag of words\n",
    "    bag = [0]*len(words)  \n",
    "    for s in sentence_words:\n",
    "        for i,w in enumerate(words):\n",
    "            if w == s: \n",
    "                bag[i] = 1\n",
    "                if show_details:\n",
    "                    print (\"found in bag: %s\" % w)\n",
    "\n",
    "    return(np.array(bag))\n"
   ]
  },
  {
   "cell_type": "code",
   "execution_count": 18,
   "id": "eacc0f72",
   "metadata": {},
   "outputs": [],
   "source": [
    "\n",
    "ERROR_THRESHOLD = 0.30\n",
    "def classify(sentence):\n",
    "    # generate probabilities from the model\n",
    "    results = model.predict([bow(sentence, words)])[0]\n",
    "    # filter out predictions below a threshold\n",
    "    results = [[i,r] for i,r in enumerate(results) if r>ERROR_THRESHOLD]\n",
    "    # sort by strength of probability\n",
    "    results.sort(key=lambda x: x[1], reverse=True)\n",
    "    return_list = []\n",
    "    for r in results:\n",
    "        return_list.append((classes[r[0]], r[1]))\n",
    "    # return tuple of intent and probability\n",
    "    return return_list\n",
    "\n",
    "def response(sentence, userID='123', show_details=False):\n",
    "    results = classify(sentence)\n",
    "    # if we have a classification then find the matching intent tag\n",
    "    if results:\n",
    "        # loop as long as there are matches to process\n",
    "        while results:\n",
    "            for i in intents['intents']:\n",
    "                # find a tag matching the first result\n",
    "                if i['tag'] == results[0][0]:\n",
    "                    # a random response from the intent\n",
    "                    return print(random.choice(i['responses']))\n",
    "\n",
    "            results.pop(0)\n"
   ]
  },
  {
   "cell_type": "code",
   "execution_count": 16,
   "id": "2e25c6f3",
   "metadata": {},
   "outputs": [
    {
     "data": {
      "text/plain": [
       "[('hours', 0.53078556)]"
      ]
     },
     "execution_count": 16,
     "metadata": {},
     "output_type": "execute_result"
    }
   ],
   "source": [
    "classify('What are you hours of operation?')\n"
   ]
  },
  {
   "cell_type": "code",
   "execution_count": 19,
   "id": "f3f63c04",
   "metadata": {},
   "outputs": [
    {
     "name": "stdout",
     "output_type": "stream",
     "text": [
      "We're open every day 9am-9pm\n"
     ]
    }
   ],
   "source": [
    "response('What are you hours of operation?')\n"
   ]
  },
  {
   "cell_type": "code",
   "execution_count": 20,
   "id": "6dbf7e46",
   "metadata": {},
   "outputs": [
    {
     "name": "stdout",
     "output_type": "stream",
     "text": [
      "We accept VISA, Mastercard and AMEX\n"
     ]
    }
   ],
   "source": [
    "response('Do you accept Credit Card?')\n"
   ]
  },
  {
   "cell_type": "code",
   "execution_count": 21,
   "id": "7f6609ed",
   "metadata": {},
   "outputs": [],
   "source": [
    "#Adding some context to the conversation i.e. Contexualization for altering question and intents etc.\n",
    "# create a data structure to hold user context\n",
    "context = {}\n",
    "\n",
    "ERROR_THRESHOLD = 0.25\n",
    "def classify(sentence):\n",
    "    # generate probabilities from the model\n",
    "    results = model.predict([bow(sentence, words)])[0]\n",
    "    # filter out predictions below a threshold\n",
    "    results = [[i,r] for i,r in enumerate(results) if r>ERROR_THRESHOLD]\n",
    "    # sort by strength of probability\n",
    "    results.sort(key=lambda x: x[1], reverse=True)\n",
    "    return_list = []\n",
    "    for r in results:\n",
    "        return_list.append((classes[r[0]], r[1]))\n",
    "    # return tuple of intent and probability\n",
    "    return return_list\n",
    "\n",
    "def response(sentence, userID='123', show_details=False):\n",
    "    results = classify(sentence)\n",
    "    # if we have a classification then find the matching intent tag\n",
    "    if results:\n",
    "        # loop as long as there are matches to process\n",
    "        while results:\n",
    "            for i in intents['intents']:\n",
    "                # find a tag matching the first result\n",
    "                if i['tag'] == results[0][0]:\n",
    "                    # set context for this intent if necessary\n",
    "                    if 'context_set' in i:\n",
    "                        if show_details: print ('context:', i['context_set'])\n",
    "                        context[userID] = i['context_set']\n",
    "\n",
    "                    # check if this intent is contextual and applies to this user's conversation\n",
    "                    if not 'context_filter' in i or \\\n",
    "                        (userID in context and 'context_filter' in i and i['context_filter'] == context[userID]):\n",
    "                        if show_details: print ('tag:', i['tag'])\n",
    "                        # a random response from the intent\n",
    "                        return print(random.choice(i['responses']))\n",
    "\n",
    "            results.pop(0)\n"
   ]
  },
  {
   "cell_type": "code",
   "execution_count": 22,
   "id": "b3f8cc34",
   "metadata": {},
   "outputs": [
    {
     "name": "stdout",
     "output_type": "stream",
     "text": [
      "We have home delivery options through UBER Eats and Zomato\n"
     ]
    }
   ],
   "source": [
    "response('Can you please let me know the delivery options?')"
   ]
  },
  {
   "cell_type": "code",
   "execution_count": 23,
   "id": "202b9805",
   "metadata": {},
   "outputs": [
    {
     "name": "stdout",
     "output_type": "stream",
     "text": [
      "Today's special is Chicken Tikka\n"
     ]
    }
   ],
   "source": [
    "response('What is menu for today?')\n",
    "\n"
   ]
  },
  {
   "cell_type": "code",
   "execution_count": null,
   "id": "0f7026cd",
   "metadata": {},
   "outputs": [],
   "source": []
  }
 ],
 "metadata": {
  "kernelspec": {
   "display_name": "Python [conda env:speechenv] *",
   "language": "python",
   "name": "conda-env-speechenv-py"
  },
  "language_info": {
   "codemirror_mode": {
    "name": "ipython",
    "version": 3
   },
   "file_extension": ".py",
   "mimetype": "text/x-python",
   "name": "python",
   "nbconvert_exporter": "python",
   "pygments_lexer": "ipython3",
   "version": "3.8.8"
  }
 },
 "nbformat": 4,
 "nbformat_minor": 5
}
